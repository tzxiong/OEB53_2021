{
 "cells": [
  {
   "cell_type": "markdown",
   "metadata": {},
   "source": [
    "## Lecture Note - Section 02"
   ]
  },
  {
   "cell_type": "code",
   "execution_count": 1,
   "metadata": {
    "jupyter": {
     "source_hidden": true
    }
   },
   "outputs": [],
   "source": [
    "import numpy as np\n",
    "from matplotlib import pyplot as plt"
   ]
  },
  {
   "cell_type": "markdown",
   "metadata": {},
   "source": [
    "### I. Fitness and selection\n",
    "\n",
    "1. Fitness: an abstract concept measuring how much an individual contributes to the next generation\n",
    "   * Absolute fitness (Malthusian fitness): the (expected) number of offsprings a particular individual leaves in the next generation.\n",
    "   * Relative fitness: absolute fitness scaled by its average value across individuals.\n",
    "   * Fitness can be defined on various levels (genotypes, alleles, individuals etc.), but it’s most often defined on the level where selection operates (e.g. an individual’s genotype).\n",
    "   \n",
    "    \n",
    "2. Types of mutations: beneficial, deleterious, neutral\n",
    "\n",
    "\n",
    "3. Types of selection in terms of:\n",
    "   * Its effect on a particular allele:\n",
    "      * Positive selection: increases the allele frequency\n",
    "      * Negative selection: decreases the allele freqeuency (also called purifying selection)\n",
    "   * Its effect on a trait (usually polygenic):\n",
    "      * Stabilizing selection: maintains the current mean trait value\n",
    "      * Directional selection: increases or decreases the mean trait value\n",
    "      * Disruptive selection: in favor of deviating from the current mean (in both directions)\n",
    "      \n",
    "      \n",
    "4. Modelling deterministic selection (originally by J.B.S. Haldane)\n",
    "   * Assumptions: very large population; mating is random; selection works on the viability of individuals (i.e., determines whether an individual will live up to the stage of reproduction); generations are discrete.\n",
    "   * Formulation: if we only have one locus and two alleles $A$ & $a$. We can track the frequencies of both alleles using the following procedure:\n",
    "       | Genotype | $AA$  | $Aa$  | $Aa$  |\n",
    "       |----------|---|---|---|\n",
    "       |  Fitness ($0\\le w_i\\le 1$)        | $w_1$  | $w_2$  | $w_3$  |\n",
    "       |  Genotype frequency at generation $n$ before selection ($p$ = Freq($A$))  | $p_1=p^2$  | $p_2=2p(1-p)$  | $p_3=(1-p)^2$  |\n",
    "       |  Mean fitness: $$\\bar{w} = p_1 w_1 + p_2 w_2 + p_3 w_3$$ |   |   |   |\n",
    "       | Genotype frequency at generation $n$ after selection | $$\\frac{p_1 w_1}{\\bar{w}}$$| $$\\frac{p_2 w_2}{\\bar{w}}$$ |  $$\\frac{p_3 w_3}{\\bar{w}}$$|\n",
    "       | Allele frequency at generation $n+1$: $$p' = \\text{Freq}(A) = \\frac{p_1 w_1}{\\bar{w}} + \\frac{p_2 w_2}{2\\bar{w}}$$ ||||\n",
    "        \n",
    "      Hence the change in allele $A$'s frequency is:\n",
    "      \n",
    "       $$\n",
    "       \\begin{align*}\n",
    "       \\Delta p &= p'-p = p^2\\frac{w_1}{\\bar{w}} + p(1-p)\\frac{w_2}{\\bar{w}} - p \\\\\n",
    "        &= \\frac{p(1-p)}{2}\\frac{2p w_1 + 2(1-2p)w_2 -2(1-p)w_3}{\\bar{w}}\\\\\n",
    "        &= \\frac{p(1-p)}{2}\\frac{\\partial\\bar{w}/\\partial p}{\\bar{w}} \\\\\n",
    "        &= \\frac{1}{2}\\frac{\\partial \\ln(\\bar{w})}{\\partial p} p(1-p)\n",
    "       \\end{align*}\n",
    "       $$\n",
    "       \n",
    "      This famous expression has several immediate implications:\n",
    "        * The change in allele frequency per generation is proportional to the genetic variation ($\\propto p(1-p)$) within the population (Darwin's first condition: evolution has to act on variation!)\n",
    "        * The change in allele frequency per generation is also proportional to the gradient $\\partial {\\ln(\\bar{w})}/\\partial p$.\n",
    "        \n",
    "        \n",
    "5. Adaptive landscape (aka fitness landscape).\n",
    "\n",
    "    * Intuition: selection operates to maximize a population's overall fitness\n",
    "    * The adaptive landscape under the single-locus selection model is precisely the function we just discovered:\n",
    "    $$\n",
    "    \\ln(\\bar{w})\n",
    "    $$\n",
    "      Using this metaphor, the selection dynamics can be visualized as:\n",
    "      \n",
    "      ![image](adaptivelandscape_1locus.png)\n",
    "      \n",
    "      It turns out that you can define adaptive landscape for traits too, such as:\n",
    "      \n",
    "      <img src=\"adaptivelandscape_trait.png\" width=\"60%\">\n",
    "      "
   ]
  },
  {
   "cell_type": "markdown",
   "metadata": {},
   "source": [
    "### II. Some special cases of the selection equation $\\Delta p = \\frac{1}{2}\\frac{\\partial \\ln(\\bar{w})}{\\partial p}p(1-p)$, assuming that $A$ is a newly emerged beneficial mutation."
   ]
  },
  {
   "cell_type": "markdown",
   "metadata": {},
   "source": [
    "1. $A$ is dominant to $a$.\n",
    "\n",
    "Here, $AA$ and $Aa$ have the same fitness $w(1+s)$, while $aa$'s fitness is $w$. $s>0$ is the selection coefficient that quantifies how much fitness is gained by genotypes having allele $A$. We can show that\n",
    "\n",
    "$$\n",
    "\\Delta p = \\frac{1}{2}\\frac{2(1-p)s}{1+(1-(1-p)^2)s}p(1-p)\\approx sp(1-p)^2,\\quad \\text{if }s \\text{ is small}\n",
    "$$"
   ]
  },
  {
   "cell_type": "code",
   "execution_count": 21,
   "metadata": {
    "jupyter": {
     "source_hidden": true
    }
   },
   "outputs": [
    {
     "data": {
      "text/plain": [
       "Text(0.5, 1.0, 'Dominant A')"
      ]
     },
     "execution_count": 21,
     "metadata": {},
     "output_type": "execute_result"
    },
    {
     "data": {
      "image/png": "[encoded data removed]",
      "text/plain": [
       "<Figure size 432x288 with 1 Axes>"
      ]
     },
     "metadata": {
      "needs_background": "light"
     },
     "output_type": "display_data"
    }
   ],
   "source": [
    "s = 0.2\n",
    "p = [0.0001]\n",
    "n = range(200)\n",
    "for i in n:\n",
    "    p.append(p[-1] + s * p[-1] * (1-p[-1])**2)\n",
    "plt.plot(n,p[1:])\n",
    "plt.xlabel('Generation')\n",
    "plt.ylabel('Frequency of A')\n",
    "plt.title('Dominant A')"
   ]
  },
  {
   "cell_type": "markdown",
   "metadata": {},
   "source": [
    "2. $A$ is recessive to $a$\n",
    "\n",
    "Here, AA's fitness is still $w(1+s)$, but both $Aa$ and $aa$ have fitness $w$. Then\n",
    "$$\n",
    "\\Delta p =\\frac{1}{2}\\frac{2sp}{1+sp^2}p(1-p)\\approx sp^2(1-p),\\quad \\text{if }s\\text{ is small}\n",
    "$$"
   ]
  },
  {
   "cell_type": "code",
   "execution_count": 20,
   "metadata": {
    "jupyter": {
     "source_hidden": true
    }
   },
   "outputs": [
    {
     "data": {
      "text/plain": [
       "Text(0.5, 1.0, 'Recessive A')"
      ]
     },
     "execution_count": 20,
     "metadata": {},
     "output_type": "execute_result"
    },
    {
     "data": {
      "image/png": "[encoded data removed]",
      "text/plain": [
       "<Figure size 432x288 with 1 Axes>"
      ]
     },
     "metadata": {
      "needs_background": "light"
     },
     "output_type": "display_data"
    }
   ],
   "source": [
    "s = 0.2\n",
    "p = [0.0001]\n",
    "n = range(60000)\n",
    "for i in n:\n",
    "    p.append(p[-1] + s * (p[-1])**2 * (1-p[-1]))\n",
    "plt.plot(n,p[1:])\n",
    "plt.xlabel('Generation')\n",
    "plt.ylabel('Frequency of A')\n",
    "plt.title('Recessive A')"
   ]
  },
  {
   "cell_type": "markdown",
   "metadata": {},
   "source": [
    "3. $A$ and $a$ are codominant (i.e., heterozygote's fitness is the average of the two homozygotes)\n",
    "\n",
    "Here, $AA$'s fitness is $w(1+s)$, while $Aa$'s fitness is $w(1+s/2)$, and $aa$'s fitness is $w$. Then\n",
    "\n",
    "$$\n",
    "\\Delta p = \\frac{1}{2}\\frac{s}{1+sp}p(1-p)\\approx\\frac{1}{2}sp(1-p),\\quad \\text{if }s\\text{ is small}\n",
    "$$"
   ]
  },
  {
   "cell_type": "code",
   "execution_count": 23,
   "metadata": {
    "jupyter": {
     "source_hidden": true
    }
   },
   "outputs": [
    {
     "data": {
      "text/plain": [
       "Text(0.5, 1.0, 'Codominant A')"
      ]
     },
     "execution_count": 23,
     "metadata": {},
     "output_type": "execute_result"
    },
    {
     "data": {
      "image/png": "[encoded data removed]",
      "text/plain": [
       "<Figure size 432x288 with 1 Axes>"
      ]
     },
     "metadata": {
      "needs_background": "light"
     },
     "output_type": "display_data"
    }
   ],
   "source": [
    "s = 0.2\n",
    "p = [0.0001]\n",
    "n = range(200)\n",
    "for i in n:\n",
    "    p.append(p[-1] + s/2 * (p[-1]) * (1-p[-1]))\n",
    "plt.plot(n,p[1:])\n",
    "plt.xlabel('Generation')\n",
    "plt.ylabel('Frequency of A')\n",
    "plt.title('Codominant A')"
   ]
  },
  {
   "cell_type": "markdown",
   "metadata": {},
   "source": [
    "**Conclusion**: Even if allele $A$ has the same selective coefficient, recessive alleles tend to take significantly longer time to reach high frequencies in the population! In the example above, it takes ~200 generations for dominant or codominant $A$, but 50000 generations for recessive $A$."
   ]
  },
  {
   "cell_type": "code",
   "execution_count": null,
   "metadata": {},
   "outputs": [],
   "source": []
  }
 ],
 "metadata": {
  "kernelspec": {
   "display_name": "python-EnvPy3.7",
   "language": "python",
   "name": "python-envpy3.7"
  },
  "language_info": {
   "codemirror_mode": {
    "name": "ipython",
    "version": 3
   },
   "file_extension": ".py",
   "mimetype": "text/x-python",
   "name": "python",
   "nbconvert_exporter": "python",
   "pygments_lexer": "ipython3",
   "version": "3.7.3"
  }
 },
 "nbformat": 4,
 "nbformat_minor": 4
}
