{
 "cells": [
  {
   "cell_type": "markdown",
   "id": "artistic-newsletter",
   "metadata": {},
   "source": [
    "## Lecture Note - Section 03"
   ]
  },
  {
   "cell_type": "code",
   "execution_count": 1,
   "id": "young-pastor",
   "metadata": {},
   "outputs": [],
   "source": [
    "import numpy as np\n",
    "from matplotlib import pyplot as plt"
   ]
  },
  {
   "cell_type": "markdown",
   "id": "clear-harrison",
   "metadata": {},
   "source": [
    "### I. What is neutral evolution?"
   ]
  },
  {
   "cell_type": "markdown",
   "id": "equal-token",
   "metadata": {},
   "source": [
    "* Darwinians attribute the rise and fall of alleles to mostly *natural selection* (advocated by R. A. Fisher, one of the founding fathers of population genetics. His most famous statement is probably the foundamental theorem of natural selection: \"The rate of increase in fitness of any organism at any time is equal to its genetic variance in fitness at that time\".)\n",
    "\n",
    "* From 1950s, led mostly by Motoo Kimura (a \"second generation\" population geneticist), people began to hypothesize that many variations in nature are probably not due to selection, but to stochastic fluctuation of mutations (subject to other neutral forces such as migration, population growth etc.)"
   ]
  },
  {
   "cell_type": "markdown",
   "id": "saving-mileage",
   "metadata": {},
   "source": [
    "### II. Why care about neutral evolution?"
   ]
  },
  {
   "cell_type": "markdown",
   "id": "excess-ancient",
   "metadata": {},
   "source": [
    "* No population is infinite, whenever a population is finite, there will be **sampling errors** of allele frequencies when a parental generation generates the offspring generation. This error is unavoidable and will lead to gradual change in allele frequencies through time. Technically, it is called **genetic drift**.\n",
    "\n",
    "* Neutral evolution provides a null model of evolution to which you can compare other more complicated models.\n",
    "\n",
    "* Genetic drift provides random perturbations to a population, it can interact with selection to change its outcome (e.g. crossing a deep valley in a fitness landscape that is not possible under pure selection). See the following picture from Sewall Wright, who coined the term fitness landscape, in which he visualized some possible evolutionary paths for a population under different magnitudes of selection/drift/mutation:\n",
    "\n",
    "![image](https://www.researchgate.net/profile/Robert_Skipper/publication/243899693/figure/fig3/AS:298527747002379@1448185969898/Sewall-Wrights-six-frame-Adaptive-Landscape-diagram-Each-frame-represents-different.png)"
   ]
  },
  {
   "cell_type": "markdown",
   "id": "excessive-sponsorship",
   "metadata": {},
   "source": [
    "### III. The basic consequences of genetic drift"
   ]
  },
  {
   "cell_type": "markdown",
   "id": "metallic-vatican",
   "metadata": {},
   "source": [
    "Usually, people calculate quantities of interests under a standard model of genetic drift --- The Wright-Fisher Model (Sewall Wright & R. A. Fisher). If you are interested in the details of this model, there are many online [tutorials](https://stephens999.github.io/fiveMinuteStats/wright_fisher_model.html). But the basic conclusion is general for any populations under genetic drift.\n",
    "\n",
    "In a completely neutral population with $N$ breeding individuals with 2 genomes per individual (e.g. human):\n",
    "\n",
    "* The **expectation** of allele frequencies does not change (genetic drift is directionless)\n",
    "\n",
    "* A specific allele will eventually either fix or become lost in the population (genetic drift removes genetic variation)\n",
    "\n",
    "* The probability for an allele with frequency $p$ in the population to fix is also $p$ (common alleles are easier to fix, and rare alleles are easier to become lost)\n",
    "\n",
    "* Genetic drift happens on a time scale of $2N$ generations (larger populations fluctuate more slowly than smaller populations)"
   ]
  },
  {
   "cell_type": "markdown",
   "id": "distant-indonesia",
   "metadata": {},
   "source": [
    "### IV. Genetic drift = sharing ancestors in a finite population"
   ]
  },
  {
   "cell_type": "markdown",
   "id": "unusual-institute",
   "metadata": {},
   "source": [
    "It might sound counterintuitive that sharing common ancestor among offsprings is precisely equivalent to genetic drift. Let's think about what exactly causes genetic drift? As we mentioned before, it is due to sampling errors when we sample gametes from parental populations to generate offsprings. If there are no errors, then all the parents should have equal representation in the offsprings, however, due to some errors, some parents are over-represented in the offsprings, and some are under-represented.\n",
    "\n",
    "To view this forward-in-time, you will find that genetic drift happens when some alleles from the parents are present in multiple offsprings, but some alleles are not found at all:\n",
    "\n",
    "![image](https://raw.githubusercontent.com/tzxiong/OEB53_2021/main/Section_03/drift_forward.png)\n",
    "\n",
    "This will likely create a shift in allele frequencies (more red alleles if red parents are overrepresented)\n",
    "\n",
    "However, in a very very large population, the situation looks more like this:\n",
    "\n",
    "![image](https://raw.githubusercontent.com/tzxiong/OEB53_2021/main/Section_03/nodrift_forward.png)\n",
    "\n",
    "There might still be some errors in frequencies, but the errors will be small if you have many offsprings to generate. At the extreme, when the number of offsprings is infinite, there will be no error at all. \n",
    "\n",
    "You can compare it to throwing a coin. When you throw it for an infinite number of times, the frequency of tail will be exactly 0.5, but when you throw it for just 100 times, the frequency of tail will deviate from 0.5.\n",
    "\n",
    "What this tells you is that genetic drift is a special form of inbreeding acting on a finite population, where offsprings have some randomly picked common ancestors. So if we reverse all the arrows in the forward-in-time picture with genetic drift, we get this:\n",
    "\n",
    "![image](https://raw.githubusercontent.com/tzxiong/OEB53_2021/main/Section_03/backwards.png)\n",
    "\n",
    "Consequently, genetic drift is equivalent to sharing ancestors in a finite population"
   ]
  },
  {
   "cell_type": "markdown",
   "id": "deadly-compensation",
   "metadata": {},
   "source": [
    "### V. Calculating the inbreeding coefficient"
   ]
  },
  {
   "cell_type": "markdown",
   "id": "anonymous-aurora",
   "metadata": {},
   "source": [
    "If we need to calculate a particular descendant's inbreeding coefficients ($F_d$), and assume we know all the possible ancestors' inbreeding coefficients ($F_{a,i}$), then we can use Sewall Wright's formula. \n",
    "\n",
    "For a single path, Wright's formula reads:\n",
    "\n",
    "$$\n",
    "F_d = \\left(\\frac{1}{2}\\right)^{n_1+n_2+1}(1+F_a)\n",
    "$$\n",
    "where $n_1$ and $n_2$ are the numbers of intermediate ancestors along the two sides of the paths before reaching the common ancestor.\n",
    "\n",
    "For multiple paths along a pedigree, we just sum them up:\n",
    "\n",
    "$$\n",
    "F_d = \\sum_{i}F_{d,i}\n",
    "$$\n",
    "where $i$ enumerates through all possible paths along a pedigree.\n",
    "\n",
    "If we assume that all common ancestors are not inbred, then $F_{a}=0$, and the formula reads:\n",
    "\n",
    "$$\n",
    "F_d = \\sum_{i}\\left(\\frac{1}{2}\\right)^{n_{1,i}+n_{2,i}+1}\n",
    "$$\n",
    "\n",
    "This is the most commonly used formula for our purpose"
   ]
  },
  {
   "cell_type": "markdown",
   "id": "immune-blackberry",
   "metadata": {},
   "source": [
    "### VI. McDonald-Kreitman Test (MK Test)"
   ]
  },
  {
   "cell_type": "markdown",
   "id": "frequent-baghdad",
   "metadata": {},
   "source": [
    "* **Problem:** How do we know if a sequence has been under positive selection within a given species?\n",
    "* **Intuition:** Under a purely neutral scenario, variation within species is correlated with divergence between species, as these quantities depend linearly on the mutation rate.\n",
    "\n",
    "* **Some technical terms:** Variation within a species is often called *polymorphism*. \n",
    "\n",
    "* **How do we measure polymorphism and divergence?** To measure polymorphism across homologous sequences, we can count the number of sites that are polymorphic (meaning that at least two different nucleotides are present at the same site in all samples). To measure divergence between species, we can measure the number of sites that are fixed for different nucleotides in two different species.\n",
    "\n",
    "* **So you can compare polymorphism with divergence, but what is our expectation for their correlation?** MK test basically says that we can **ignore** the precise value of correlation because there are two categories of neutral sites:\n",
    "\n",
    "    * Synonymous sites.\n",
    "    * Non-synonymous sites.\n",
    "\n",
    "    The synonymous sites are used as controls. The correlation of polymorphism to divergence among synonymous sites should be the same as the correlation of polymorphism to divergence among non-synonymous sites, under the neutrality assumption, even though the rate of evolution at non-synonymous sites maybe lower due to negative selection against mutants. So if we see that the correlations calculated from both categories are equal, then the population is likely not under positive selection.\n",
    "    \n",
    "    If some positive selections happened in the past, they will drive many would-be polymorphisms in non-synonymous sites to fixation, because selection is the process that favors a few in the population at the cost of removing all the other variation. Eventually, there will be more fixed differences and less polymorphisms at non-synonymous sites.\n",
    "\n",
    "\n",
    "* **Great, so can we write down the precise formula for MK test?** To do a proper MK test, first count the following quantities:\n",
    "\n",
    "    * **P**olymorphism on **s**ynonymous sites within species ($P_s$)\n",
    "    * **D**ivergence on **s**ynonymous sites between species ($D_s$)\n",
    "    * **P**olymorphism on **n**onsynonymous sites within species ($P_n$)\n",
    "    * **D**ivergence on **n**onsynonymous sites between species ($D_n$)\n",
    "    \n",
    "    Under strict neutrality, it is expected that \n",
    "    \n",
    "    $$\n",
    "    \\frac{P_n}{D_n}=\\frac{P_s}{D_s}\n",
    "    $$\n",
    "    \n",
    "    If positive selection is present, then $P_n \\downarrow$, $D_n \\uparrow$, so \n",
    "    \n",
    "    $$\n",
    "    \\frac{P_n}{D_n}<\\frac{P_s}{D_s}\n",
    "    $$\n",
    "    \n",
    "    If negative selection is pervasive, then $P_n \\downarrow$, $D_n \\downarrow$, so it depends on which one is dampened more. The MK test is suitable for detecting positive selection, but not negative selection. \n",
    "    \n",
    "    We often rearrange the terms such that a quantity $\\alpha$ is defined to capture the difference:\n",
    "    \n",
    "    $$\n",
    "    \\alpha = 1- \\frac{P_n/D_n}{P_s/D_s}\n",
    "    $$\n",
    "    \n",
    "    Under positive selection, it is easy to see that $\\alpha > 0$. $\\alpha$ is interpretted as the proportion of substitutions driven by positive selection.\n",
    "    \n",
    "    You can either use the traditional $\\chi^2$-test or the [G-test](https://en.wikipedia.org/wiki/G-test) that is recommended by M & K in their paper to test whether $P_n$ and $D_n$ are significantly deviated from $P_s$ and $D_s$. In fact, it is likely to be more accurate to use [Fisher's exact test](https://en.wikipedia.org/wiki/Fisher%27s_exact_test) to calculate $p$-valiues in a two-way contingency table, as it is behaves better under small sample sizes:\n",
    "    \n",
    "    \n",
    "|             |Polymorphic | Divergence |\n",
    "|-------------|------------|------------|\n",
    "|Synonymous   |$P_s$       | $D_s$      |\n",
    "|Nonsynonymous|$P_n$       |$D_n$       |\n",
    "    \n",
    "    \n",
    "$$\n",
    "p_{\\text{Fisher's exact test}} = \\frac{\\left(\\begin{array}{c}P_s + D_s\\\\P_s\\end{array}\\right)\\left(\\begin{array}{c}P_n + D_n\\\\P_n\\end{array}\\right)}{\\left(\\begin{array}{c}P_s + D_s+P_n+D_n\\\\P_s+P_n\\end{array}\\right)}\n",
    "$$\n",
    "    \n",
    "* Some statistical note: in statistical tests, you always say whether you can reject the null hypothesis or not reject the null. Hence, neutrality tests are not tests for selection per se, because the null hypothesis is usually more restictive than just \"being neutral\", some other comfouding factors may affects the outcome, which then may give you false positives. Can you find such discussions in the original papers by M & K?"
   ]
  },
  {
   "cell_type": "code",
   "execution_count": null,
   "id": "owned-newport",
   "metadata": {},
   "outputs": [],
   "source": []
  }
 ],
 "metadata": {
  "kernelspec": {
   "display_name": "python-EnvPy3.8",
   "language": "python",
   "name": "envpy3.8"
  },
  "language_info": {
   "codemirror_mode": {
    "name": "ipython",
    "version": 2
   },
   "file_extension": ".py",
   "mimetype": "text/x-python",
   "name": "python",
   "nbconvert_exporter": "python",
   "pygments_lexer": "ipython2",
   "version": "2.7.16"
  }
 },
 "nbformat": 4,
 "nbformat_minor": 5
}
